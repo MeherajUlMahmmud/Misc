{
 "cells": [
  {
   "cell_type": "code",
   "execution_count": null,
   "metadata": {},
   "outputs": [],
   "source": [
    "1. Searching Stack\n",
    " Write in pseudo code the following for the method on a Stack\n",
    "      def contains(stackName: Stack, search: str):\n",
    "       #input Stack stackName and searchString str\n",
    "return bool\n",
    "\t\t\t\t\t\n",
    "This will take a Stack of characters in a set sequence and a String and return True if the Stack contains this string of characters in the same sequence. Return false if not found in the Stack. The elements in the Stack must return to their original order once this method is complete.\n",
    "\n",
    "Answer:\n",
    "This is the pseudocode for the “contains” function which will check if a given string is present in a stack. At the end the stack will stay unchanged.\n",
    "\n",
    "First we will create a new stack to hold the elements of the stack we are searching. We will call this temporary stack tempStack.\n",
    "Then we will create a variable called found. This will be used to keep track of whether the sequence is found.\n",
    "We will then create a while loop that will keep popping elements from the stack until the stack is empty. We will put the popped element into the temporary stack.\n",
    "We will then create another while loop that will keep popping elements from the temporary stack until the temporary stack is empty. We will push the popped element back into the stack.\n",
    "Finally, we will return the value of found.\n",
    "\n",
    "def contains(stackName: Stack, search: String) -> Boolean:\n",
    "    tempStack = new Stack() # Create a temporary stack to hold elements\n",
    "\n",
    "    found = False  # Variable to keep track of whether the sequence is found\n",
    "\n",
    "    while not stackName.isEmpty():  # While stack is not empty, keep popping and checking\n",
    "        element = stackName.pop()\n",
    "\n",
    "        tempStack.push(element)  # Put the popped element into the temporary stack\n",
    "\n",
    "        if element == search[0]:  # If the element matches the first character of the search string\n",
    "            match = True \n",
    "\n",
    "            for i = 1 to length of search - 1:  # Check the rest of the search string\n",
    "                if stackName.isEmpty():  # If the stack is empty, set match to false and break out of the loop\n",
    "                    match = False\n",
    "                    break\n",
    "                nextElement = stackName.pop()\n",
    "                tempStack.push(nextElement)\n",
    "\n",
    "                if nextElement != search[i]:\n",
    "                    match = False\n",
    "                    break\n",
    "\n",
    "            if match:\n",
    "                found = True\n",
    "                break\n",
    "\n",
    "    while not tempStack.isEmpty():  # Restore the stack by popping from the temporary stack\n",
    "        stackName.push(tempStack.pop())\n",
    "\n",
    "    return found\n"
   ]
  }
 ],
 "metadata": {
  "language_info": {
   "name": "python"
  }
 },
 "nbformat": 4,
 "nbformat_minor": 2
}
