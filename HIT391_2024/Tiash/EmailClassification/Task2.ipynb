{
 "cells": [
  {
   "cell_type": "code",
   "execution_count": null,
   "metadata": {},
   "outputs": [],
   "source": [
    "import pandas as pd\n",
    "from sklearn.model_selection import train_test_split\n",
    "from sklearn.preprocessing import StandardScaler\n",
    "\n",
    "# Load dataset\n",
    "emails  = pd.read_csv(\"emails.csv\")\n",
    "\n",
    "# Extract features and labels\n",
    "# All columns except the first one and the last\n",
    "X = emails.iloc[:, 1:-1].values\n",
    "y = emails['Prediction'].values  # The last column\n",
    "\n",
    "# Standardize features\n",
    "scaler = StandardScaler()\n",
    "X_scaled = scaler.fit_transform(X)"
   ]
  },
  {
   "cell_type": "code",
   "execution_count": null,
   "metadata": {},
   "outputs": [],
   "source": [
    "# Split data into training, evaluation, and test sets\n",
    "X_train, X_temp, y_train, y_temp = train_test_split(\n",
    "    X_scaled, y, test_size=0.4, random_state=42, stratify=y)\n",
    "X_eval, X_test, y_eval, y_test = train_test_split(\n",
    "    X_temp, y_temp, test_size=0.5, random_state=42, stratify=y_temp)"
   ]
  },
  {
   "cell_type": "code",
   "execution_count": null,
   "metadata": {},
   "outputs": [],
   "source": [
    "from sklearn.linear_model import LogisticRegression\n",
    "from sklearn.metrics import classification_report, accuracy_score\n",
    "from sklearn.model_selection import GridSearchCV\n",
    "\n",
    "# 3. Model Implementation\n",
    "log_reg = LogisticRegression(\n",
    "\tpenalty='l2', solver='liblinear', max_iter=10000, random_state=42\n",
    ")\n",
    "\n",
    "# 4. Model Training\n",
    "log_reg.fit(X_train, y_train)\n",
    "\n",
    "# 5. Model Tuning using Grid Search\n",
    "param_grid = {'C': [0.1, 1, 10, 100]}\n",
    "grid_search = GridSearchCV(\n",
    "    LogisticRegression(), param_grid, cv=5, scoring='accuracy',\n",
    ")\n",
    "grid_search.fit(X_eval, y_eval)\n",
    "\n",
    "# Best parameters and best score\n",
    "best_params = grid_search.best_params_\n",
    "best_score = grid_search.best_score_\n",
    "\n",
    "# Evaluate on test set\n",
    "y_pred = grid_search.best_estimator_.predict(X_test)\n",
    "print(f\"Best Parameters: {best_params}\")\n",
    "print(f\"Best Evaluation Score: {best_score}\")\n",
    "print(f\"Test Accuracy: {accuracy_score(y_test, y_pred)}\")\n",
    "print(classification_report(y_test, y_pred))"
   ]
  },
  {
   "cell_type": "code",
   "execution_count": null,
   "metadata": {},
   "outputs": [],
   "source": [
    "from sklearn.svm import SVC\n",
    "\n",
    "# 3. Model Implementation\n",
    "svm_clf = SVC()\n",
    "\n",
    "# 4. Model Training\n",
    "svm_clf.fit(X_train, y_train)\n",
    "\n",
    "# 5. Model Tuning using Grid Search\n",
    "param_grid = {\n",
    "\t'C': [0.1, 1, 10, 100],  # Regularization parameter \n",
    "\t'gamma': [1, 0.1, 0.01, 0.001],   # Kernel coefficient\n",
    "\t'kernel': ['rbf'],  # Kernel type\n",
    "\t'class_weight': ['balanced', None],  # Penalize\n",
    "\t'probability': [True], # Enable probability estimates\n",
    "}\n",
    "grid_search = GridSearchCV(SVC(), param_grid, cv=5, scoring='accuracy')\n",
    "grid_search.fit(X_eval, y_eval)\n",
    "\n",
    "# Best parameters and best score\n",
    "best_params = grid_search.best_params_\n",
    "best_score = grid_search.best_score_\n",
    "\n",
    "# Evaluate on test set\n",
    "y_pred = grid_search.best_estimator_.predict(X_test)\n",
    "print(f\"Best Parameters: {best_params}\")\n",
    "print(f\"Best Evaluation Score: {best_score}\")\n",
    "print(f\"Test Accuracy: {accuracy_score(y_test, y_pred)}\")\n",
    "print(classification_report(y_test, y_pred))"
   ]
  }
 ],
 "metadata": {
  "kernelspec": {
   "display_name": "venv",
   "language": "python",
   "name": "python3"
  },
  "language_info": {
   "codemirror_mode": {
    "name": "ipython",
    "version": 3
   },
   "file_extension": ".py",
   "mimetype": "text/x-python",
   "name": "python",
   "nbconvert_exporter": "python",
   "pygments_lexer": "ipython3",
   "version": "3.8.10"
  }
 },
 "nbformat": 4,
 "nbformat_minor": 2
}
