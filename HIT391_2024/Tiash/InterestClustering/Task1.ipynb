{
 "cells": [
  {
   "cell_type": "code",
   "execution_count": null,
   "metadata": {},
   "outputs": [],
   "source": [
    "import pandas as pd\n",
    "import numpy as np\n",
    "from sklearn.preprocessing import LabelEncoder, StandardScaler, MinMaxScaler\n",
    "from sklearn.decomposition import PCA\n",
    "from sklearn.cluster import KMeans, AgglomerativeClustering\n",
    "from sklearn.metrics import silhouette_score\n",
    "from scipy.cluster.hierarchy import dendrogram, linkage\n",
    "import matplotlib.pyplot as plt\n"
   ]
  },
  {
   "cell_type": "code",
   "execution_count": null,
   "metadata": {},
   "outputs": [],
   "source": [
    "# Load dataset\n",
    "df = pd.read_csv(\"kaggle_Interests_group.csv\")\n"
   ]
  },
  {
   "cell_type": "code",
   "execution_count": null,
   "metadata": {},
   "outputs": [],
   "source": [
    "# Drop columns with many missing values\n",
    "def drop_missing_values_columns(df, threshold):\n",
    "    cols_to_drop = [col for col in df.columns if df[col].isna().sum()\n",
    "                    > threshold]\n",
    "    df.drop(cols_to_drop, axis=1, inplace=True)\n",
    "    return df\n",
    "\n",
    "\n",
    "df = drop_missing_values_columns(df, 5000)\n"
   ]
  },
  {
   "cell_type": "code",
   "execution_count": null,
   "metadata": {},
   "outputs": [],
   "source": [
    "# Fill missing values with 1 - median\n",
    "columns = df.columns.tolist()\n",
    "columns.remove(\"group\")\n",
    "for col in columns:\n",
    "    median = df[col].median()\n",
    "    df[col].fillna(1 - median, inplace=True)\n"
   ]
  },
  {
   "cell_type": "code",
   "execution_count": null,
   "metadata": {},
   "outputs": [],
   "source": [
    "# Encode 'group' column\n",
    "le = LabelEncoder()\n",
    "df[\"group\"] = le.fit_transform(df[\"group\"])\n"
   ]
  },
  {
   "cell_type": "code",
   "execution_count": null,
   "metadata": {},
   "outputs": [],
   "source": [
    "# Select relevant features\n",
    "df = df[[\"group\", \"grand_tot_interests\", \"interest47\"]]\n",
    "\n",
    "# Scale 'grand_tot_interests' using MinMaxScaler\n",
    "scaler = MinMaxScaler()\n",
    "df[\"grand_tot_interests\"] = scaler.fit_transform(df[[\"grand_tot_interests\"]])\n",
    "\n",
    "# Extract features and labels\n",
    "X = df.drop(\"group\", axis=1)\n",
    "y = df[\"group\"]\n"
   ]
  },
  {
   "cell_type": "code",
   "execution_count": null,
   "metadata": {},
   "outputs": [],
   "source": [
    "# Standardize features before applying PCA\n",
    "scaler = StandardScaler()\n",
    "X_scaled = scaler.fit_transform(X)\n",
    "\n",
    "# Apply PCA to reduce dimensions\n",
    "pca = PCA(n_components=2)\n",
    "X_pca = pca.fit_transform(X_scaled)\n"
   ]
  },
  {
   "cell_type": "code",
   "execution_count": null,
   "metadata": {},
   "outputs": [],
   "source": [
    "# Visualize the explained variance by each principal component\n",
    "plt.figure(figsize=(8, 5))\n",
    "plt.plot(range(1, len(pca.explained_variance_ratio_) + 1),\n",
    "         pca.explained_variance_ratio_, marker='o')\n",
    "plt.title('Explained Variance by Principal Components')\n",
    "plt.xlabel('Principal Component')\n",
    "plt.ylabel('Explained Variance Ratio')\n",
    "plt.show()\n"
   ]
  },
  {
   "cell_type": "code",
   "execution_count": null,
   "metadata": {},
   "outputs": [],
   "source": [
    "# KMeans Clustering and Elbow Method\n",
    "inertias = []\n",
    "for i in range(2, 12):\n",
    "    kmeans = KMeans(n_clusters=i).fit(X)\n",
    "    inertias.append(kmeans.inertia_)\n",
    "plt.plot(range(2, 12), inertias, marker='o')\n",
    "plt.title('Elbow Method')\n",
    "plt.xlabel('Number of clusters')\n",
    "plt.ylabel('Inertia')\n",
    "plt.show()\n"
   ]
  },
  {
   "cell_type": "code",
   "execution_count": null,
   "metadata": {},
   "outputs": [],
   "source": [
    "# KMeans with optimal clusters\n",
    "kmeans = KMeans(n_clusters=3).fit(X_pca)\n",
    "\n",
    "kmeans_labels = kmeans.labels_\n"
   ]
  },
  {
   "cell_type": "code",
   "execution_count": null,
   "metadata": {},
   "outputs": [],
   "source": [
    "# Visualize KMeans Clusters\n",
    "plt.scatter(X_pca[:, 0], X_pca[:, 1], c=kmeans_labels, cmap='viridis')\n",
    "plt.scatter(kmeans.cluster_centers_[:, 0],\n",
    "            kmeans.cluster_centers_[:, 1], c=\"red\")\n",
    "plt.title('KMeans Clustering with PCA')\n",
    "plt.xlabel('Principal Component 1')\n",
    "plt.ylabel('Principal Component 2')\n",
    "plt.show()\n"
   ]
  },
  {
   "cell_type": "code",
   "execution_count": null,
   "metadata": {},
   "outputs": [],
   "source": [
    "# Calculate and print the silhouette score for KMeans\n",
    "sil_score_kmeans = silhouette_score(X_pca, kmeans_labels)\n",
    "print(f\"Silhouette Score for KMeans: {sil_score_kmeans}\")\n"
   ]
  },
  {
   "cell_type": "code",
   "execution_count": null,
   "metadata": {},
   "outputs": [],
   "source": []
  },
  {
   "cell_type": "code",
   "execution_count": null,
   "metadata": {},
   "outputs": [],
   "source": [
    "# Hierarchical Clustering\n",
    "X_scaled = StandardScaler().fit_transform(df.iloc[:, 1:])\n",
    "linked = linkage(X_scaled, 'ward')\n",
    "plt.figure(figsize=(10, 7))\n",
    "dendrogram(linked)\n",
    "plt.title('Dendrogram for Hierarchical Clustering')\n",
    "plt.xlabel('Samples')\n",
    "plt.ylabel('Euclidean distances')\n",
    "plt.show()\n"
   ]
  },
  {
   "cell_type": "code",
   "execution_count": null,
   "metadata": {},
   "outputs": [],
   "source": [
    "# Fit AgglomerativeClustering\n",
    "n_clusters = 3  # Assuming 3 clusters from dendrogram\n",
    "agg_clust = AgglomerativeClustering(\n",
    "    n_clusters=n_clusters, affinity='euclidean', linkage='ward')\n",
    "labels = agg_clust.fit_predict(X_scaled)\n"
   ]
  },
  {
   "cell_type": "code",
   "execution_count": null,
   "metadata": {},
   "outputs": [],
   "source": [
    "# Visualize Hierarchical Clusters\n",
    "plt.scatter(X_scaled[:, 0], X_scaled[:, 1], c=labels, cmap='viridis')\n",
    "plt.title('Hierarchical Clustering')\n",
    "plt.xlabel('Feature 1')\n",
    "plt.ylabel('Feature 2')\n",
    "plt.show()\n"
   ]
  },
  {
   "cell_type": "code",
   "execution_count": null,
   "metadata": {},
   "outputs": [],
   "source": [
    "# Calculate and print the silhouette score\n",
    "sil_score_hierarchical = silhouette_score(X_scaled, labels)\n",
    "print(\n",
    "    f\"Silhouette Score for Hierarchical Clustering: {sil_score_hierarchical}\")\n"
   ]
  },
  {
   "cell_type": "code",
   "execution_count": null,
   "metadata": {},
   "outputs": [],
   "source": []
  }
 ],
 "metadata": {
  "kernelspec": {
   "display_name": "venv",
   "language": "python",
   "name": "python3"
  },
  "language_info": {
   "codemirror_mode": {
    "name": "ipython",
    "version": 3
   },
   "file_extension": ".py",
   "mimetype": "text/x-python",
   "name": "python",
   "nbconvert_exporter": "python",
   "pygments_lexer": "ipython3",
   "version": "3.8.10"
  }
 },
 "nbformat": 4,
 "nbformat_minor": 2
}
